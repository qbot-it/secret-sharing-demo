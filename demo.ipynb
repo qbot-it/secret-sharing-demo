{
 "cells": [
  {
   "cell_type": "markdown",
   "id": "c97ea902907df0db",
   "metadata": {
    "collapsed": false
   },
   "source": [
    "# Shamir's Secret Sharing"
   ]
  },
  {
   "cell_type": "code",
   "execution_count": 1,
   "outputs": [],
   "source": [
    "from pyseltongue import SecretSharer, PlaintextToHexSecretSharer"
   ],
   "metadata": {
    "collapsed": false,
    "ExecuteTime": {
     "end_time": "2024-01-15T14:39:27.214287200Z",
     "start_time": "2024-01-15T14:39:27.199378100Z"
    }
   },
   "id": "ce4d058e3bc6c3f1"
  },
  {
   "cell_type": "markdown",
   "source": [
    "## Hex secret"
   ],
   "metadata": {
    "collapsed": false
   },
   "id": "d0b6c12bb2dd024b"
  },
  {
   "cell_type": "code",
   "execution_count": 2,
   "outputs": [
    {
     "name": "stdout",
     "output_type": "stream",
     "text": [
      "['f-d7Ada1A0b9bca2e4647adf3758f761fA2c9b08e297b0A54d94Ae45a0099053bf38427bcAcc65Ac', 'e-9fAa33f1626835A40e2a8ebAf8415f2AAf5dc529792417cf93cd7c5A0c2d23a3d0eebbcbb4317e', 'd-66A6d5e20c13d913c6ea3e39879c5b70e11A717A5aa73a40928cb21f0ed8A3895a89fbc69cAdfA']\n"
     ]
    }
   ],
   "source": [
    "hex_secret = 'c4bbcb1fbec99d65bf59d85c8cb62ee2db963f0fe106f483d9afa73bd4e39a8a'\n",
    "hex_secret_shares = SecretSharer.split_secret(hex_secret, 2, 3)\n",
    "print(hex_secret_shares)"
   ],
   "metadata": {
    "collapsed": false,
    "ExecuteTime": {
     "end_time": "2024-01-15T14:39:27.254998400Z",
     "start_time": "2024-01-15T14:39:27.204902300Z"
    }
   },
   "id": "afc431b934c4d5ab"
  },
  {
   "cell_type": "code",
   "execution_count": 3,
   "outputs": [
    {
     "name": "stdout",
     "output_type": "stream",
     "text": [
      "c4bbcb1fbec99d65bf59d85c8cb62ee2db963f0fe106f483d9afa73bd4e39a8a\n"
     ]
    }
   ],
   "source": [
    "recovered_hex_secret = SecretSharer.recover_secret(hex_secret_shares[0:2])\n",
    "print(recovered_hex_secret)"
   ],
   "metadata": {
    "collapsed": false,
    "ExecuteTime": {
     "end_time": "2024-01-15T14:39:27.256996700Z",
     "start_time": "2024-01-15T14:39:27.210370500Z"
    }
   },
   "id": "c905cba32a8e6fc4"
  },
  {
   "cell_type": "markdown",
   "source": [
    "## Plain text secret\n",
    "### Example: blockchain seed phrase (mnemonic)"
   ],
   "metadata": {
    "collapsed": false
   },
   "id": "9b3aeb9dea443eda"
  },
  {
   "cell_type": "code",
   "execution_count": 4,
   "outputs": [],
   "source": [
    "plain_text_secret = 'produce endorse notable until lesson valid comfort rate sentence prize elder explain'\n",
    "plain_text_secret_shares = PlaintextToHexSecretSharer.split_secret(plain_text_secret, 10, 50)"
   ],
   "metadata": {
    "collapsed": false,
    "ExecuteTime": {
     "end_time": "2024-01-15T14:39:27.256996700Z",
     "start_time": "2024-01-15T14:39:27.224952900Z"
    }
   },
   "id": "d26dbd108df6d4fd"
  },
  {
   "cell_type": "code",
   "execution_count": 5,
   "outputs": [
    {
     "name": "stdout",
     "output_type": "stream",
     "text": [
      "ocza}2ah3JJjS |(hD-|6vx!tZ\\;Xc9'H,ic4^k! +XR\"9xDd\thrR\\q0Y6xoeO:{T_ePY)\"XdMcmogM*lS%m__ZTcZA\n"
     ]
    }
   ],
   "source": [
    "recovered_plain_text_secret = PlaintextToHexSecretSharer.recover_secret(plain_text_secret_shares[21:30])\n",
    "print(recovered_plain_text_secret)"
   ],
   "metadata": {
    "collapsed": false,
    "ExecuteTime": {
     "end_time": "2024-01-15T14:39:27.256996700Z",
     "start_time": "2024-01-15T14:39:27.227404900Z"
    }
   },
   "id": "5fd532515d132570"
  },
  {
   "cell_type": "code",
   "execution_count": 6,
   "outputs": [
    {
     "name": "stdout",
     "output_type": "stream",
     "text": [
      "produce endorse notable until lesson valid comfort rate sentence prize elder explain\n"
     ]
    }
   ],
   "source": [
    "recovered_plain_text_secret = PlaintextToHexSecretSharer.recover_secret(plain_text_secret_shares[20:30])\n",
    "print(recovered_plain_text_secret)"
   ],
   "metadata": {
    "collapsed": false,
    "ExecuteTime": {
     "end_time": "2024-01-15T14:39:27.256996700Z",
     "start_time": "2024-01-15T14:39:27.232303900Z"
    }
   },
   "id": "434550537371348f"
  },
  {
   "cell_type": "code",
   "execution_count": 7,
   "outputs": [
    {
     "name": "stdout",
     "output_type": "stream",
     "text": [
      "produce endorse notable until lesson valid comfort rate sentence prize elder explain\n"
     ]
    }
   ],
   "source": [
    "recovered_plain_text_secret = PlaintextToHexSecretSharer.recover_secret(plain_text_secret_shares[10:30])\n",
    "print(recovered_plain_text_secret)"
   ],
   "metadata": {
    "collapsed": false,
    "ExecuteTime": {
     "end_time": "2024-01-15T14:39:27.257998200Z",
     "start_time": "2024-01-15T14:39:27.239405300Z"
    }
   },
   "id": "8439bb48e81ffe64"
  },
  {
   "cell_type": "markdown",
   "source": [
    "### Example: file as base64"
   ],
   "metadata": {
    "collapsed": false
   },
   "id": "6f8db3feedb8cc95"
  },
  {
   "cell_type": "code",
   "execution_count": 8,
   "outputs": [],
   "source": [
    "from io import BytesIO\n",
    "import base64"
   ],
   "metadata": {
    "collapsed": false,
    "ExecuteTime": {
     "end_time": "2024-01-15T14:39:27.257998200Z",
     "start_time": "2024-01-15T14:39:27.247859600Z"
    }
   },
   "id": "c1102ba848358154"
  },
  {
   "cell_type": "code",
   "execution_count": 9,
   "outputs": [],
   "source": [
    "with open(\"data/secret.txt\", \"rb\") as f:\n",
    "    base64_secret = base64.b64encode(f.read()).decode()\n",
    "base64_secret_shares = PlaintextToHexSecretSharer.split_secret(base64_secret, 20, 100)"
   ],
   "metadata": {
    "collapsed": false,
    "ExecuteTime": {
     "end_time": "2024-01-15T14:39:27.268033300Z",
     "start_time": "2024-01-15T14:39:27.253000500Z"
    }
   },
   "id": "8d31466db618b700"
  },
  {
   "cell_type": "code",
   "execution_count": 10,
   "outputs": [
    {
     "name": "stdout",
     "output_type": "stream",
     "text": [
      "b'Lorem ipsum dolor sit amet, consectetur adipiscing elit.'\n"
     ]
    }
   ],
   "source": [
    "recovered_base64_secret = PlaintextToHexSecretSharer.recover_secret(base64_secret_shares[80:100])\n",
    "file_bytes = base64.b64decode(recovered_base64_secret)\n",
    "file = BytesIO(file_bytes)\n",
    "lines = file.readlines()\n",
    "for line in lines:\n",
    "    print(line)"
   ],
   "metadata": {
    "collapsed": false,
    "ExecuteTime": {
     "end_time": "2024-01-15T14:39:27.363310100Z",
     "start_time": "2024-01-15T14:39:27.268033300Z"
    }
   },
   "id": "13e60580830d7008"
  }
 ],
 "metadata": {
  "kernelspec": {
   "display_name": "Python 3 (ipykernel)",
   "language": "python",
   "name": "python3"
  },
  "language_info": {
   "codemirror_mode": {
    "name": "ipython",
    "version": 3
   },
   "file_extension": ".py",
   "mimetype": "text/x-python",
   "name": "python",
   "nbconvert_exporter": "python",
   "pygments_lexer": "ipython3",
   "version": "3.10.9"
  }
 },
 "nbformat": 4,
 "nbformat_minor": 5
}

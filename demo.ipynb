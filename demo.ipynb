{
 "cells": [
  {
   "cell_type": "markdown",
   "id": "c97ea902907df0db",
   "metadata": {
    "collapsed": false
   },
   "source": [
    "# Shamir's secret sharing"
   ]
  },
  {
   "cell_type": "code",
   "execution_count": 1,
   "outputs": [],
   "source": [
    "from pyseltongue import SecretSharer, PlaintextToHexSecretSharer"
   ],
   "metadata": {
    "collapsed": false,
    "ExecuteTime": {
     "end_time": "2024-01-15T03:36:04.576056400Z",
     "start_time": "2024-01-15T03:36:04.559636700Z"
    }
   },
   "id": "ce4d058e3bc6c3f1"
  },
  {
   "cell_type": "markdown",
   "source": [
    "## Hex secret"
   ],
   "metadata": {
    "collapsed": false
   },
   "id": "d0b6c12bb2dd024b"
  },
  {
   "cell_type": "code",
   "execution_count": 2,
   "outputs": [
    {
     "name": "stdout",
     "output_type": "stream",
     "text": [
      "['f-fdb27518c5bdf4b296e61adA228b17Ad4a80753052cc05d60dd4b9acd9ee3a96e02ee489271c2e1', 'e-ed26572ddf6dde4ecb65A9c05b17dd0A6c57c2A07Aaace7ff823ecee7cce918A3A791c8e57e593', 'd-fb74da8b92a3c18c27dAd87A4ca2cf725ba96ba79A62d48052f3067da03bdb723a3bA294bf5Aeeb']\n"
     ]
    }
   ],
   "source": [
    "hex_secret = 'c4bbcb1fbec99d65bf59d85c8cb62ee2db963f0fe106f483d9afa73bd4e39a8a'\n",
    "hex_secret_shares = SecretSharer.split_secret(hex_secret, 2, 3)\n",
    "print(hex_secret_shares)"
   ],
   "metadata": {
    "collapsed": false,
    "ExecuteTime": {
     "end_time": "2024-01-15T03:36:04.599520800Z",
     "start_time": "2024-01-15T03:36:04.576056400Z"
    }
   },
   "id": "afc431b934c4d5ab"
  },
  {
   "cell_type": "code",
   "execution_count": 3,
   "outputs": [
    {
     "name": "stdout",
     "output_type": "stream",
     "text": [
      "c4bbcb1fbec99d65bf59d85c8cb62ee2db963f0fe106f483d9afa73bd4e39a8a\n"
     ]
    }
   ],
   "source": [
    "recovered_hex_secret = SecretSharer.recover_secret(hex_secret_shares[0:2])\n",
    "print(recovered_hex_secret)"
   ],
   "metadata": {
    "collapsed": false,
    "ExecuteTime": {
     "end_time": "2024-01-15T03:36:04.600750200Z",
     "start_time": "2024-01-15T03:36:04.591089100Z"
    }
   },
   "id": "c905cba32a8e6fc4"
  },
  {
   "cell_type": "markdown",
   "source": [
    "## Plain text secret\n",
    "### Example: blockchain seed phrase (mnemonic)"
   ],
   "metadata": {
    "collapsed": false
   },
   "id": "9b3aeb9dea443eda"
  },
  {
   "cell_type": "code",
   "execution_count": 4,
   "outputs": [],
   "source": [
    "plain_text_secret = 'produce endorse notable until lesson valid comfort rate sentence prize elder explain'\n",
    "plain_text_secret_shares = PlaintextToHexSecretSharer.split_secret(plain_text_secret, 10, 50)"
   ],
   "metadata": {
    "collapsed": false,
    "ExecuteTime": {
     "end_time": "2024-01-15T03:36:04.680320Z",
     "start_time": "2024-01-15T03:36:04.596815900Z"
    }
   },
   "id": "d26dbd108df6d4fd"
  },
  {
   "cell_type": "code",
   "execution_count": 5,
   "outputs": [
    {
     "name": "stdout",
     "output_type": "stream",
     "text": [
      " (h.FLY%cZ>5a)T!^J!\\@k2q-\f1\fwx=-,4U*S\\o7]Ol/%xI\\MEHb\\O@ceLFRxHm^^i:0@XTU f>KlV>\"\n",
      "8wh!a\t:}iQT\n"
     ]
    }
   ],
   "source": [
    "recovered_plain_text_secret = PlaintextToHexSecretSharer.recover_secret(plain_text_secret_shares[21:30])\n",
    "print(recovered_plain_text_secret)"
   ],
   "metadata": {
    "collapsed": false,
    "ExecuteTime": {
     "end_time": "2024-01-15T03:36:04.705049400Z",
     "start_time": "2024-01-15T03:36:04.612971600Z"
    }
   },
   "id": "5fd532515d132570"
  },
  {
   "cell_type": "code",
   "execution_count": 6,
   "outputs": [
    {
     "name": "stdout",
     "output_type": "stream",
     "text": [
      "produce endorse notable until lesson valid comfort rate sentence prize elder explain\n"
     ]
    }
   ],
   "source": [
    "recovered_plain_text_secret = PlaintextToHexSecretSharer.recover_secret(plain_text_secret_shares[20:30])\n",
    "print(recovered_plain_text_secret)"
   ],
   "metadata": {
    "collapsed": false,
    "ExecuteTime": {
     "end_time": "2024-01-15T03:36:04.705049400Z",
     "start_time": "2024-01-15T03:36:04.626495300Z"
    }
   },
   "id": "434550537371348f"
  },
  {
   "cell_type": "code",
   "execution_count": 7,
   "outputs": [
    {
     "name": "stdout",
     "output_type": "stream",
     "text": [
      "produce endorse notable until lesson valid comfort rate sentence prize elder explain\n"
     ]
    }
   ],
   "source": [
    "recovered_plain_text_secret = PlaintextToHexSecretSharer.recover_secret(plain_text_secret_shares[10:30])\n",
    "print(recovered_plain_text_secret)"
   ],
   "metadata": {
    "collapsed": false,
    "ExecuteTime": {
     "end_time": "2024-01-15T03:36:04.705049400Z",
     "start_time": "2024-01-15T03:36:04.641537500Z"
    }
   },
   "id": "8439bb48e81ffe64"
  },
  {
   "cell_type": "markdown",
   "source": [
    "### Example: file as base64"
   ],
   "metadata": {
    "collapsed": false
   },
   "id": "6f8db3feedb8cc95"
  },
  {
   "cell_type": "code",
   "execution_count": 8,
   "outputs": [],
   "source": [
    "from io import BytesIO\n",
    "import base64"
   ],
   "metadata": {
    "collapsed": false,
    "ExecuteTime": {
     "end_time": "2024-01-15T03:36:04.705049400Z",
     "start_time": "2024-01-15T03:36:04.657005100Z"
    }
   },
   "id": "c1102ba848358154"
  },
  {
   "cell_type": "code",
   "execution_count": 9,
   "outputs": [],
   "source": [
    "with open(\"data/secret.txt\", \"rb\") as f:\n",
    "    base64_secret = base64.b64encode(f.read()).decode()\n",
    "base64_secret_shares = PlaintextToHexSecretSharer.split_secret(base64_secret, 20, 100)"
   ],
   "metadata": {
    "collapsed": false,
    "ExecuteTime": {
     "end_time": "2024-01-15T03:36:04.710576900Z",
     "start_time": "2024-01-15T03:36:04.663137400Z"
    }
   },
   "id": "8d31466db618b700"
  },
  {
   "cell_type": "code",
   "execution_count": 10,
   "outputs": [
    {
     "name": "stdout",
     "output_type": "stream",
     "text": [
      "b'Lorem ipsum dolor sit amet, consectetur adipiscing elit.'\n"
     ]
    }
   ],
   "source": [
    "recovered_base64_secret = PlaintextToHexSecretSharer.recover_secret(base64_secret_shares[80:100])\n",
    "file_bytes = base64.b64decode(recovered_base64_secret)\n",
    "file = BytesIO(file_bytes)\n",
    "lines = file.readlines()\n",
    "for line in lines:\n",
    "    print(line)"
   ],
   "metadata": {
    "collapsed": false,
    "ExecuteTime": {
     "end_time": "2024-01-15T03:36:04.710576900Z",
     "start_time": "2024-01-15T03:36:04.687969800Z"
    }
   },
   "id": "13e60580830d7008"
  }
 ],
 "metadata": {
  "kernelspec": {
   "display_name": "Python 3 (ipykernel)",
   "language": "python",
   "name": "python3"
  },
  "language_info": {
   "codemirror_mode": {
    "name": "ipython",
    "version": 3
   },
   "file_extension": ".py",
   "mimetype": "text/x-python",
   "name": "python",
   "nbconvert_exporter": "python",
   "pygments_lexer": "ipython3",
   "version": "3.10.9"
  }
 },
 "nbformat": 4,
 "nbformat_minor": 5
}

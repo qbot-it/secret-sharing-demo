{
 "cells": [
  {
   "cell_type": "markdown",
   "id": "c97ea902907df0db",
   "metadata": {
    "collapsed": false
   },
   "source": [
    "# Shamir's Secret Sharing (custom implementation)"
   ]
  },
  {
   "cell_type": "code",
   "execution_count": 1,
   "outputs": [],
   "source": [
    "from sss import SecretSharing"
   ],
   "metadata": {
    "collapsed": false,
    "ExecuteTime": {
     "end_time": "2024-01-15T14:38:25.178152800Z",
     "start_time": "2024-01-15T14:38:25.020006900Z"
    }
   },
   "id": "ce4d058e3bc6c3f1"
  },
  {
   "cell_type": "markdown",
   "source": [
    "## Plain text secret\n",
    "### Example: blockchain seed phrase (mnemonic)"
   ],
   "metadata": {
    "collapsed": false
   },
   "id": "9b3aeb9dea443eda"
  },
  {
   "cell_type": "code",
   "execution_count": 2,
   "outputs": [],
   "source": [
    "plain_text_secret = 'produce endorse notable until lesson valid comfort rate sentence prize elder explain'\n",
    "shares_data = SecretSharing.generate_shares(plain_text_secret, 2, 3)"
   ],
   "metadata": {
    "collapsed": false,
    "ExecuteTime": {
     "end_time": "2024-01-15T14:38:25.353485200Z",
     "start_time": "2024-01-15T14:38:25.197503800Z"
    }
   },
   "id": "d26dbd108df6d4fd"
  },
  {
   "cell_type": "code",
   "execution_count": 3,
   "outputs": [
    {
     "name": "stdout",
     "output_type": "stream",
     "text": [
      "produce endorse notable until lesson valid comfort rate sentence prize elder explain\n"
     ]
    }
   ],
   "source": [
    "recovered_plain_text_secret = SecretSharing.reconstruct_secret(shares_data.shares[0:2], shares_data.prime)\n",
    "print(recovered_plain_text_secret)"
   ],
   "metadata": {
    "collapsed": false,
    "ExecuteTime": {
     "end_time": "2024-01-15T14:38:25.358490900Z",
     "start_time": "2024-01-15T14:38:25.356489100Z"
    }
   },
   "id": "5fd532515d132570"
  }
 ],
 "metadata": {
  "kernelspec": {
   "display_name": "Python 3 (ipykernel)",
   "language": "python",
   "name": "python3"
  },
  "language_info": {
   "codemirror_mode": {
    "name": "ipython",
    "version": 3
   },
   "file_extension": ".py",
   "mimetype": "text/x-python",
   "name": "python",
   "nbconvert_exporter": "python",
   "pygments_lexer": "ipython3",
   "version": "3.10.9"
  }
 },
 "nbformat": 4,
 "nbformat_minor": 5
}
